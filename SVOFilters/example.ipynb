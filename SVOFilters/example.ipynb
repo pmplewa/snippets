{
 "cells": [
  {
   "cell_type": "markdown",
   "metadata": {},
   "source": [
    "## SVO Filter Profile Service API"
   ]
  },
  {
   "cell_type": "markdown",
   "metadata": {},
   "source": [
    "[http://svo2.cab.inta-csic.es/svo/theory/fps/](http://svo2.cab.inta-csic.es/svo/theory/fps/)"
   ]
  },
  {
   "cell_type": "code",
   "execution_count": 1,
   "metadata": {},
   "outputs": [],
   "source": [
    "import astropy.units as u\n",
    "import matplotlib.pyplot as plt\n",
    "\n",
    "from svo import filters"
   ]
  },
  {
   "cell_type": "code",
   "execution_count": 2,
   "metadata": {},
   "outputs": [],
   "source": [
    "table = filters.search(facility=\"2MASS\")"
   ]
  },
  {
   "cell_type": "code",
   "execution_count": 3,
   "metadata": {},
   "outputs": [
    {
     "name": "stdout",
     "output_type": "stream",
     "text": [
      "   filterID    Band Instrument Facility WavelengthEff  WidthEff\n",
      "                                              AA          AA   \n",
      "-------------- ---- ---------- -------- ------------- ---------\n",
      " 2MASS/2MASS.J    J               2MASS       12350.0  1624.319\n",
      " 2MASS/2MASS.H    H               2MASS       16620.0 2509.4036\n",
      "2MASS/2MASS.Ks   Ks               2MASS       21590.0 2618.8696\n"
     ]
    }
   ],
   "source": [
    "table[\"filterID\", \"Band\", \"Instrument\", \"Facility\", \"WavelengthEff\", \"WidthEff\"].pprint()"
   ]
  },
  {
   "cell_type": "code",
   "execution_count": 4,
   "metadata": {},
   "outputs": [],
   "source": [
    "f = filters.fetch(filter_id=\"2MASS/2MASS.H\", phot_sys=\"AB\")"
   ]
  },
  {
   "cell_type": "code",
   "execution_count": 5,
   "metadata": {},
   "outputs": [
    {
     "name": "stdout",
     "output_type": "stream",
     "text": [
      "     Parameter                                       Value                                 \n",
      "-------------------- ----------------------------------------------------------------------\n",
      "FilterProfileService ivo://svo/fps                                                         \n",
      "            filterID 2MASS/2MASS.H                                                         \n",
      "      WavelengthUnit Angstrom                                                              \n",
      "       WavelengthUCD em.wl                                                                 \n",
      "         Description 2MASS H                                                               \n",
      "          PhotSystem 2MASS                                                                 \n",
      "                Band H                                                                     \n",
      "            Facility 2MASS                                                                 \n",
      "    ProfileReference http://www.ipac.caltech.edu/2mass/releases/allsky/doc/sec6_4a.html#rsr\n",
      "CalibrationReference http://adsabs.harvard.edu/abs/2003AJ....126.1090C                     \n",
      "         Description 2MASS H                                                               \n",
      "          components Filter + Instrument + Atmosphere                                      \n",
      "       WavelengthRef 16620.0                                                               \n",
      "      WavelengthMean 16620.0                                                               \n",
      "       WavelengthEff 16620.0                                                               \n",
      "       WavelengthMin 14787.378640179                                                       \n",
      "       WavelengthMax 18231.020407164                                                       \n",
      "            WidthEff 2509.4034987068                                                       \n",
      "       WavelengthCen 16487.192828097                                                       \n",
      "     WavelengthPivot 16457.503740034                                                       \n",
      "      WavelengthPeak 16710.0                                                               \n",
      "      WavelengthPhot 16422.955724896                                                       \n",
      "                FWHM 2609.6475383665                                                       \n",
      "                Fsun 22.596337946016                                                       \n",
      "           PhotCalID 2MASS/2MASS.H/AB                                                      \n",
      "              MagSys AB                                                                    \n",
      "           ZeroPoint 3631.0                                                                \n",
      "       ZeroPointUnit Jy                                                                    \n",
      "       ZeroPointType Pogson                                                                \n"
     ]
    }
   ],
   "source": [
    "f.info()"
   ]
  },
  {
   "cell_type": "code",
   "execution_count": 6,
   "metadata": {},
   "outputs": [
    {
     "data": {
      "image/png": "[encoded data removed]",
      "text/plain": [
       "<Figure size 432x288 with 1 Axes>"
      ]
     },
     "metadata": {
      "needs_background": "light"
     },
     "output_type": "display_data"
    }
   ],
   "source": [
    "f.plot_transmission(unit=u.micron)\n",
    "plt.show()"
   ]
  },
  {
   "cell_type": "code",
   "execution_count": 7,
   "metadata": {},
   "outputs": [
    {
     "data": {
      "text/plain": [
       "array(0.91523999)"
      ]
     },
     "execution_count": 7,
     "metadata": {},
     "output_type": "execute_result"
    }
   ],
   "source": [
    "f.eval(1.6 * u.micron)"
   ]
  },
  {
   "cell_type": "code",
   "execution_count": 8,
   "metadata": {},
   "outputs": [
    {
     "data": {
      "text/plain": [
       "0.37813052279121057"
      ]
     },
     "execution_count": 8,
     "metadata": {},
     "output_type": "execute_result"
    }
   ],
   "source": [
    "f.integral(1.6 * u.micron, 1.7 * u.micron, normalized=True)"
   ]
  },
  {
   "cell_type": "code",
   "execution_count": 9,
   "metadata": {},
   "outputs": [
    {
     "data": {
      "text/html": [
       "<i>Table length=58</i>\n",
       "<table id=\"table5418691696\" class=\"table-striped table-bordered table-condensed\">\n",
       "<thead><tr><th>Wavelength</th><th>Transmission</th></tr></thead>\n",
       "<thead><tr><th>AA</th><th></th></tr></thead>\n",
       "<thead><tr><th>float32</th><th>float32</th></tr></thead>\n",
       "<tr><td>12890.0</td><td>0.0</td></tr>\n",
       "<tr><td>13150.0</td><td>0.0</td></tr>\n",
       "<tr><td>13410.0</td><td>0.0</td></tr>\n",
       "<tr><td>13680.0</td><td>0.0</td></tr>\n",
       "<tr><td>13970.0</td><td>0.0</td></tr>\n",
       "<tr><td>14180.0</td><td>0.0</td></tr>\n",
       "<tr><td>14400.0</td><td>0.0005</td></tr>\n",
       "<tr><td>14620.0</td><td>0.0028</td></tr>\n",
       "<tr><td>14780.0</td><td>0.0081</td></tr>\n",
       "<tr><td>...</td><td>...</td></tr>\n",
       "<tr><td>18030.0</td><td>0.1077</td></tr>\n",
       "<tr><td>18100.0</td><td>0.0707</td></tr>\n",
       "<tr><td>18130.0</td><td>0.0051</td></tr>\n",
       "<tr><td>18180.0</td><td>0.02</td></tr>\n",
       "<tr><td>18280.0</td><td>0.0004</td></tr>\n",
       "<tr><td>18350.0</td><td>0.0</td></tr>\n",
       "<tr><td>18500.0</td><td>1e-04</td></tr>\n",
       "<tr><td>18710.0</td><td>0.0</td></tr>\n",
       "<tr><td>18930.0</td><td>0.0</td></tr>\n",
       "<tr><td>19140.0</td><td>0.0</td></tr>\n",
       "</table>"
      ],
      "text/plain": [
       "<Table length=58>\n",
       "Wavelength Transmission\n",
       "    AA                 \n",
       " float32     float32   \n",
       "---------- ------------\n",
       "   12890.0          0.0\n",
       "   13150.0          0.0\n",
       "   13410.0          0.0\n",
       "   13680.0          0.0\n",
       "   13970.0          0.0\n",
       "   14180.0          0.0\n",
       "   14400.0       0.0005\n",
       "   14620.0       0.0028\n",
       "   14780.0       0.0081\n",
       "       ...          ...\n",
       "   18030.0       0.1077\n",
       "   18100.0       0.0707\n",
       "   18130.0       0.0051\n",
       "   18180.0         0.02\n",
       "   18280.0       0.0004\n",
       "   18350.0          0.0\n",
       "   18500.0        1e-04\n",
       "   18710.0          0.0\n",
       "   18930.0          0.0\n",
       "   19140.0          0.0"
      ]
     },
     "execution_count": 9,
     "metadata": {},
     "output_type": "execute_result"
    }
   ],
   "source": [
    "f.transmission_table"
   ]
  },
  {
   "cell_type": "code",
   "execution_count": null,
   "metadata": {},
   "outputs": [],
   "source": []
  }
 ],
 "metadata": {
  "kernelspec": {
   "display_name": "Python 3",
   "language": "python",
   "name": "python3"
  },
  "language_info": {
   "codemirror_mode": {
    "name": "ipython",
    "version": 3
   },
   "file_extension": ".py",
   "mimetype": "text/x-python",
   "name": "python",
   "nbconvert_exporter": "python",
   "pygments_lexer": "ipython3",
   "version": "3.9.2"
  }
 },
 "nbformat": 4,
 "nbformat_minor": 4
}
